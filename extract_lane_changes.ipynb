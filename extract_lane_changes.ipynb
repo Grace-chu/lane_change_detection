{
 "cells": [
  {
   "cell_type": "code",
   "execution_count": null,
   "metadata": {
    "collapsed": false
   },
   "outputs": [],
   "source": [
    "%matplotlib inline\n",
    "import matplotlib\n",
    "import matplotlib.pyplot as plt\n",
    "import pickle\n",
    "import pandas as pd\n",
    "import numpy as np\n",
    "from traffic_util import TrafficData\n",
    "from collections import defaultdict"
   ]
  },
  {
   "cell_type": "code",
   "execution_count": null,
   "metadata": {
    "collapsed": false
   },
   "outputs": [],
   "source": [
    "# Load dataset as a DataFrame\n",
    "df = pd.read_pickle('data/dataset_all.pickle')"
   ]
  },
  {
   "cell_type": "code",
   "execution_count": null,
   "metadata": {
    "collapsed": false
   },
   "outputs": [],
   "source": [
    "# Load TrafficData\n",
    "data = TrafficData(df)"
   ]
  },
  {
   "cell_type": "code",
   "execution_count": null,
   "metadata": {
    "collapsed": false
   },
   "outputs": [],
   "source": [
    "print \"Number of vehicles %s\" %(len(data.df.veh_id.unique()))\n",
    "print \"Number of frames %s\" %(len(df.frame_id.unique()))"
   ]
  },
  {
   "cell_type": "code",
   "execution_count": null,
   "metadata": {
    "collapsed": false
   },
   "outputs": [],
   "source": [
    "# Compute average lane speed\n",
    "for lane_id, lane_df in df.groupby('lane_id'):\n",
    "    print \"Lane %s average velocity: %s\" %(lane_id, lane_df.veh_vel.mean())"
   ]
  },
  {
   "cell_type": "code",
   "execution_count": null,
   "metadata": {
    "collapsed": false
   },
   "outputs": [],
   "source": [
    "# Process lane change data to extract lane-changes\n",
    "lane_change_dict = defaultdict(list)\n",
    "lc_df = data.df.groupby('lane_change').get_group(True)\n",
    "print \"Number of lane changes: %s\" %(len(lc_df))\n",
    "frames_before, frames_after = 60,40\n",
    "clean_count = 0\n",
    "for index, row in lc_df.iterrows(): # Iterate over all veh snapshots containing a lanechange\n",
    "    \n",
    "    # Skip NaN in from_lane\n",
    "    if np.isnan(row.from_lane):\n",
    "        continue\n",
    "        \n",
    "    from_lane = int(row.from_lane) #TODO: fix the from_lane in the DataFrame\n",
    "    lane_id = row.lane_id\n",
    "    lane_distance = data.get_lane_center(lane_id) - data.get_lane_center(from_lane)\n",
    "    veh_id = row.veh_id\n",
    "    lc_frame = row.frame_id\n",
    "    \n",
    "    veh_lc_df = data.get_veh_df_between(veh_id,lc_frame - frames_before, lc_frame + frames_after)\n",
    "    veh_lc_df_pre = veh_lc_df.loc[veh_lc_df.frame_id < lc_frame]\n",
    "    veh_lc_df_post = veh_lc_df.loc[veh_lc_df.frame_id >= lc_frame]\n",
    "    if (veh_lc_df_pre.lane_id == from_lane).all() and (veh_lc_df_post.lane_id == lane_id).all():\n",
    "        # This is a clean lane change\n",
    "        clean_count = clean_count + 1\n",
    "        veh_lc_df['lc_frame_index'] = veh_lc_df.frame_id - lc_frame\n",
    "        veh_lc_df['local_x_normalized'] = (veh_lc_df.local_x - data.get_lane_center(from_lane)) \\\n",
    "            *(1./lane_distance)\n",
    "        vel_start = veh_lc_df.veh_vel.head(1).squeeze()\n",
    "        vel_max = max(veh_lc_df.veh_vel.tolist())\n",
    "        veh_lc_df['veh_vel_normalized'] = (veh_lc_df.veh_vel - vel_start)/vel_max\n",
    "        \n",
    "        # Figure out gaps\n",
    "        frame_start, frame_end = min(veh_lc_df.frame_id),max(veh_lc_df.frame_id)\n",
    "        lc_snapshot = veh_lc_df[veh_lc_df.frame_id == lc_frame].squeeze()\n",
    "        veh_id_front = lc_snapshot.veh_front\n",
    "        veh_id_back = lc_snapshot.veh_back\n",
    "        if (veh_id_front > 0) and (veh_id_back > 0):\n",
    "            gap_series =  data.get_diff_series(frame_start, frame_end, veh_id_front, lc_snapshot.veh_id, 'local_y')\n",
    "            if len(veh_lc_df) == len(gap_series):\n",
    "                veh_lc_df['gap_length'] = gap_series.tolist()\n",
    "            else:\n",
    "                print \"veh: %s lc_frame %s veh front: %s veh back: %s frame start: %s frame end: %s len(lc_df) %s len(series) %s\" \\\n",
    "                %(lc_snapshot.veh_id, lc_frame, veh_id_front, veh_id_back, frame_start, frame_end, len(veh_lc_df), len(gap_series))\n",
    "                veh_lc_df['gap_length'] = np.nan\n",
    "                \n",
    "        lane_change_dict[(from_lane,lane_id)].append(veh_lc_df)\n",
    "        \n",
    "print \"Number of clean lane changes %s\" %(clean_count)"
   ]
  },
  {
   "cell_type": "code",
   "execution_count": null,
   "metadata": {
    "collapsed": false
   },
   "outputs": [],
   "source": [
    "# Save to pickle\n",
    "with open('data/lane_change_dict.pickle','w') as f:\n",
    "    pickle.dump(lane_change_dict,f)"
   ]
  }
 ],
 "metadata": {
  "kernelspec": {
   "display_name": "Python 2",
   "language": "python",
   "name": "python2"
  },
  "language_info": {
   "codemirror_mode": {
    "name": "ipython",
    "version": 2
   },
   "file_extension": ".py",
   "mimetype": "text/x-python",
   "name": "python",
   "nbconvert_exporter": "python",
   "pygments_lexer": "ipython2",
   "version": "2.7.6"
  }
 },
 "nbformat": 4,
 "nbformat_minor": 0
}
